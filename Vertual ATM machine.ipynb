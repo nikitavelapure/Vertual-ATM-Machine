{
 "cells": [
  {
   "cell_type": "code",
   "execution_count": null,
   "id": "cfd0f48e",
   "metadata": {},
   "outputs": [],
   "source": [
    "class ATM:\n",
    "    def __init__(self, balance=0, pin=0000):\n",
    "        self.balance = balance\n",
    "        self.pin = pin\n",
    "\n",
    "    def check_balance(self):\n",
    "        return self.balance\n",
    "\n",
    "    def withdraw(self, amount):\n",
    "        if amount > self.balance:\n",
    "            return \"Insufficient funds.\"\n",
    "        else:\n",
    "            self.balance -= amount\n",
    "            return f\"Withdrawal successful. Current balance: {self.balance}\"\n",
    "\n",
    "    def deposit(self, amount):\n",
    "        self.balance += amount\n",
    "        return f\"Deposit successful. Current balance: {self.balance}\"\n",
    "\n",
    "    def change_pin(self, new_pin):\n",
    "        self.pin = new_pin\n",
    "        return \"PIN changed successfully.\""
   ]
  },
  {
   "cell_type": "code",
   "execution_count": null,
   "id": "6f38f9ae",
   "metadata": {},
   "outputs": [],
   "source": [
    "def main():\n",
    "    atm = ATM(25000-+1234) # Initialize ATM object with initial balance and PIN\n",
    "\n",
    "    while True:\n",
    "        print(\"Welcome to the ATM machine.\")\n",
    "        pin = int(input(\"Please enter your PIN: \"))\n",
    "\n",
    "        if pin != atm.pin:\n",
    "            print(\"Incorrect PIN. Please try again.\")\n",
    "            continue\n",
    "\n",
    "        print(\"\\nMenu:\")\n",
    "        print(\"1. Check Balance\")\n",
    "        print(\"2. Withdraw\")\n",
    "        print(\"3. Deposit\")\n",
    "        print(\"4. Change PIN\")\n",
    "        print(\"5. Exit\")\n",
    "\n",
    "        option = int(input(\"\\nEnter your choice: \"))\n",
    "\n",
    "        if option == 1:\n",
    "            print(\"Current balance:\", atm.check_balance())\n",
    "\n",
    "        elif option == 2:\n",
    "            amount = float(input(\"Enter the amount to withdraw: \"))\n",
    "            print(atm.withdraw(amount))\n",
    "\n",
    "        elif option == 3:\n",
    "            amount = float(input(\"Enter the amount to deposit: \"))\n",
    "            print(atm.deposit(amount))\n",
    "\n",
    "        elif option == 4:\n",
    "            new_pin = int(input(\"Enter your new PIN: \"))\n",
    "            print(atm.change_pin(new_pin))\n",
    "\n",
    "        elif option == 5:\n",
    "            print(\"Thank you for using the ATM machine.\")\n",
    "            break\n",
    "\n",
    "        else:\n",
    "\n",
    "              print(\"Invalid option. Please try again.\")\n",
    "\n",
    "\n",
    "if __name__ == \"__main__\":\n",
    "    main()\n"
   ]
  },
  {
   "cell_type": "code",
   "execution_count": null,
   "id": "c46f9427",
   "metadata": {},
   "outputs": [],
   "source": []
  },
  {
   "cell_type": "code",
   "execution_count": null,
   "id": "eaafa9a4",
   "metadata": {},
   "outputs": [],
   "source": []
  }
 ],
 "metadata": {
  "kernelspec": {
   "display_name": "Python 3 (ipykernel)",
   "language": "python",
   "name": "python3"
  },
  "language_info": {
   "codemirror_mode": {
    "name": "ipython",
    "version": 3
   },
   "file_extension": ".py",
   "mimetype": "text/x-python",
   "name": "python",
   "nbconvert_exporter": "python",
   "pygments_lexer": "ipython3",
   "version": "3.11.5"
  }
 },
 "nbformat": 4,
 "nbformat_minor": 5
}
